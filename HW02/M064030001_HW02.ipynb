{
 "cells": [
  {
   "cell_type": "code",
   "execution_count": 85,
   "metadata": {
    "collapsed": true
   },
   "outputs": [],
   "source": [
    "import os  #載入模組"
   ]
  },
  {
   "cell_type": "code",
   "execution_count": 86,
   "metadata": {
    "collapsed": true
   },
   "outputs": [],
   "source": [
    "def main():                  #定義名稱為main的函式\n",
    "    print ('Hello world!')   #將('Hello world')輸出"
   ]
  },
  {
   "cell_type": "code",
   "execution_count": 87,
   "metadata": {},
   "outputs": [
    {
     "name": "stdout",
     "output_type": "stream",
     "text": [
      "This is Alice's greeting.\n",
      "This is Bob's greeting.\n"
     ]
    }
   ],
   "source": [
    "print(\"This is Alice's greeting.\")  \n",
    "print('This is Bob\\'s greeting.')    #雙引號或單引號皆可以使用，但前後必須一致   \n",
    "                                     #\\ 用來處理句子裡引號問題"
   ]
  },
  {
   "cell_type": "code",
   "execution_count": 88,
   "metadata": {},
   "outputs": [
    {
     "name": "stdout",
     "output_type": "stream",
     "text": [
      "param1 plus secondParam is equal to res\n",
      "foo\n"
     ]
    },
    {
     "data": {
      "text/plain": [
       "15"
      ]
     },
     "execution_count": 88,
     "metadata": {},
     "output_type": "execute_result"
    }
   ],
   "source": [
    "foo(5,10)   #方程式"
   ]
  },
  {
   "cell_type": "code",
   "execution_count": 89,
   "metadata": {},
   "outputs": [
    {
     "name": "stdout",
     "output_type": "stream",
     "text": [
      "==========\n"
     ]
    }
   ],
   "source": [
    "print ('='*10 )    #印出10個'='"
   ]
  },
  {
   "cell_type": "code",
   "execution_count": 90,
   "metadata": {},
   "outputs": [
    {
     "name": "stdout",
     "output_type": "stream",
     "text": [
      " Current working directory isC:\\Users\\Kevin Fang\\Documents\\financial trade\n"
     ]
    }
   ],
   "source": [
    "print (' Current working directory is' + os.getcwd())    #字元相加可以用+號  \n",
    "                                                         #利用OS模組 "
   ]
  },
  {
   "cell_type": "code",
   "execution_count": 91,
   "metadata": {
    "collapsed": true
   },
   "outputs": [],
   "source": [
    "counter =0\n",
    "counter +=1    #將count第一個值設定為0 每次加1"
   ]
  },
  {
   "cell_type": "code",
   "execution_count": 92,
   "metadata": {
    "collapsed": true
   },
   "outputs": [],
   "source": [
    "food=['apples','oranges','cats']    #設定一個list，list可以包含各種類型"
   ]
  },
  {
   "cell_type": "code",
   "execution_count": 93,
   "metadata": {},
   "outputs": [
    {
     "name": "stdout",
     "output_type": "stream",
     "text": [
      "I like to eat apples\n",
      "I like to eat oranges\n",
      "I like to eat cats\n"
     ]
    }
   ],
   "source": [
    "for i in food:                   #for迴圈， i 為在list\"food\"裡之元素\n",
    "    print ('I like to eat '+i)   #將list裡的元素按照'I like to eat i'依序輸出，for迴圈後的print要縮排 "
   ]
  },
  {
   "cell_type": "code",
   "execution_count": 94,
   "metadata": {},
   "outputs": [
    {
     "name": "stdout",
     "output_type": "stream",
     "text": [
      "Count to ten\n",
      "0\n",
      "1\n",
      "2\n",
      "3\n",
      "4\n",
      "5\n",
      "6\n",
      "7\n",
      "8\n",
      "9\n"
     ]
    }
   ],
   "source": [
    "print('Count to ten')       #輸出('Count to ten')\n",
    "for i in range(10):     #將i設定為0~10區間中的值(包含0但不包含10)，即為 (0,1,2,3,4,5,6,7,8,9)\n",
    "    print(i)          "
   ]
  },
  {
   "cell_type": "code",
   "execution_count": 95,
   "metadata": {},
   "outputs": [],
   "source": [
    "def foo (param1 , secondParam):  #定義名稱為foo的函式，括號內為參數名稱 \n",
    "    res = param1 + secondParam     #設定'res'為儲存參數相加的結果\n",
    "    print('{0} plus {1} is equal to {2}'.format('param1', 'secondParam','res'))       #以('param1','SecondParam','res')為格式，輸出res=param1 + secondParam的結果\n",
    "    if res < 50:           \n",
    "        print('foo')  \n",
    "    elif res<=50 and param1==42 or secondParam ==24 :  \n",
    "        print('bar')\n",
    "    else: \n",
    "        print ('moo')              #迴圈流程控制\n",
    "    return res                     #return為def所輸出之結果"
   ]
  },
  {
   "cell_type": "code",
   "execution_count": 96,
   "metadata": {},
   "outputs": [
    {
     "name": "stdout",
     "output_type": "stream",
     "text": [
      "Hello world!\n"
     ]
    }
   ],
   "source": [
    "if __name__ == '__main__' :    #當直接運行目前副本main()時，__name__才會等於__main__\n",
    "     main()                    #當使用副本當作模組導入時，並不會運行main()"
   ]
  }
 ],
 "metadata": {
  "kernelspec": {
   "display_name": "Python 3",
   "language": "python",
   "name": "python3"
  },
  "language_info": {
   "codemirror_mode": {
    "name": "ipython",
    "version": 3
   },
   "file_extension": ".py",
   "mimetype": "text/x-python",
   "name": "python",
   "nbconvert_exporter": "python",
   "pygments_lexer": "ipython3",
   "version": "3.6.2"
  }
 },
 "nbformat": 4,
 "nbformat_minor": 2
}
