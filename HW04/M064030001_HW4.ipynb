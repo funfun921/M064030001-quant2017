{
 "cells": [
  {
   "cell_type": "code",
   "execution_count": 7,
   "metadata": {
    "scrolled": true
   },
   "outputs": [],
   "source": [
    "def multiplication_table(m, n):\n",
    "    for i in range(1,10):\n",
    "        for j in range(m,n+1):\n",
    "            print(\"%dx%d=%d\"%(j,i,i*j),end='\\t')\n",
    "        print()\n",
    "    print()"
   ]
  },
  {
   "cell_type": "code",
   "execution_count": 10,
   "metadata": {},
   "outputs": [
    {
     "name": "stdout",
     "output_type": "stream",
     "text": [
      "1x1=1\t2x1=2\t3x1=3\t\n",
      "1x2=2\t2x2=4\t3x2=6\t\n",
      "1x3=3\t2x3=6\t3x3=9\t\n",
      "1x4=4\t2x4=8\t3x4=12\t\n",
      "1x5=5\t2x5=10\t3x5=15\t\n",
      "1x6=6\t2x6=12\t3x6=18\t\n",
      "1x7=7\t2x7=14\t3x7=21\t\n",
      "1x8=8\t2x8=16\t3x8=24\t\n",
      "1x9=9\t2x9=18\t3x9=27\t\n",
      "\n",
      "4x1=4\t5x1=5\t6x1=6\t\n",
      "4x2=8\t5x2=10\t6x2=12\t\n",
      "4x3=12\t5x3=15\t6x3=18\t\n",
      "4x4=16\t5x4=20\t6x4=24\t\n",
      "4x5=20\t5x5=25\t6x5=30\t\n",
      "4x6=24\t5x6=30\t6x6=36\t\n",
      "4x7=28\t5x7=35\t6x7=42\t\n",
      "4x8=32\t5x8=40\t6x8=48\t\n",
      "4x9=36\t5x9=45\t6x9=54\t\n",
      "\n",
      "7x1=7\t8x1=8\t9x1=9\t\n",
      "7x2=14\t8x2=16\t9x2=18\t\n",
      "7x3=21\t8x3=24\t9x3=27\t\n",
      "7x4=28\t8x4=32\t9x4=36\t\n",
      "7x5=35\t8x5=40\t9x5=45\t\n",
      "7x6=42\t8x6=48\t9x6=54\t\n",
      "7x7=49\t8x7=56\t9x7=63\t\n",
      "7x8=56\t8x8=64\t9x8=72\t\n",
      "7x9=63\t8x9=72\t9x9=81\t\n",
      "\n"
     ]
    }
   ],
   "source": [
    "multiplication_table(1,3)\n",
    "multiplication_table(4,6)\n",
    "multiplication_table(7,9)"
   ]
  },
  {
   "cell_type": "code",
   "execution_count": 8,
   "metadata": {},
   "outputs": [],
   "source": [
    "def pyramid(n):\n",
    "    for i in range(0,n):\n",
    "        print (\" \"*(n-i-1)+\"*\"*(i*2+1))"
   ]
  },
  {
   "cell_type": "code",
   "execution_count": 11,
   "metadata": {},
   "outputs": [
    {
     "name": "stdout",
     "output_type": "stream",
     "text": [
      "         *\n",
      "        ***\n",
      "       *****\n",
      "      *******\n",
      "     *********\n",
      "    ***********\n",
      "   *************\n",
      "  ***************\n",
      " *****************\n",
      "*******************\n"
     ]
    }
   ],
   "source": [
    "pyramid(10)"
   ]
  },
  {
   "cell_type": "code",
   "execution_count": 9,
   "metadata": {},
   "outputs": [
    {
     "name": "stdout",
     "output_type": "stream",
     "text": [
      "The following commands were written to file `hw4.py`:\n",
      "def multiplication_table(m, n):\n",
      "    for i in range(1,10):\n",
      "        for j in range(m,n+1):\n",
      "            print(\"%dx%d=%d\"%(j,i,i*j),end='\\t')\n",
      "        print()\n",
      "    print()\n",
      "def pyramid(n):\n",
      "    for i in range(0,n):\n",
      "        print (\" \"*(n-i-1)+\"*\"*(i*2+1))\n"
     ]
    }
   ],
   "source": [
    "%save hw4.py 7 8 "
   ]
  },
  {
   "cell_type": "code",
   "execution_count": 12,
   "metadata": {
    "collapsed": true
   },
   "outputs": [],
   "source": [
    "import hw4 "
   ]
  },
  {
   "cell_type": "code",
   "execution_count": 13,
   "metadata": {},
   "outputs": [
    {
     "name": "stdout",
     "output_type": "stream",
     "text": [
      "1x1=1\t2x1=2\t3x1=3\t\n",
      "1x2=2\t2x2=4\t3x2=6\t\n",
      "1x3=3\t2x3=6\t3x3=9\t\n",
      "1x4=4\t2x4=8\t3x4=12\t\n",
      "1x5=5\t2x5=10\t3x5=15\t\n",
      "1x6=6\t2x6=12\t3x6=18\t\n",
      "1x7=7\t2x7=14\t3x7=21\t\n",
      "1x8=8\t2x8=16\t3x8=24\t\n",
      "1x9=9\t2x9=18\t3x9=27\t\n",
      "\n",
      "4x1=4\t5x1=5\t6x1=6\t\n",
      "4x2=8\t5x2=10\t6x2=12\t\n",
      "4x3=12\t5x3=15\t6x3=18\t\n",
      "4x4=16\t5x4=20\t6x4=24\t\n",
      "4x5=20\t5x5=25\t6x5=30\t\n",
      "4x6=24\t5x6=30\t6x6=36\t\n",
      "4x7=28\t5x7=35\t6x7=42\t\n",
      "4x8=32\t5x8=40\t6x8=48\t\n",
      "4x9=36\t5x9=45\t6x9=54\t\n",
      "\n",
      "7x1=7\t8x1=8\t9x1=9\t\n",
      "7x2=14\t8x2=16\t9x2=18\t\n",
      "7x3=21\t8x3=24\t9x3=27\t\n",
      "7x4=28\t8x4=32\t9x4=36\t\n",
      "7x5=35\t8x5=40\t9x5=45\t\n",
      "7x6=42\t8x6=48\t9x6=54\t\n",
      "7x7=49\t8x7=56\t9x7=63\t\n",
      "7x8=56\t8x8=64\t9x8=72\t\n",
      "7x9=63\t8x9=72\t9x9=81\t\n",
      "\n"
     ]
    }
   ],
   "source": [
    "hw4.multiplication_table(1,3)\n",
    "hw4.multiplication_table(4,6)\n",
    "hw4.multiplication_table(7,9)"
   ]
  },
  {
   "cell_type": "code",
   "execution_count": 14,
   "metadata": {},
   "outputs": [
    {
     "name": "stdout",
     "output_type": "stream",
     "text": [
      "         *\n",
      "        ***\n",
      "       *****\n",
      "      *******\n",
      "     *********\n",
      "    ***********\n",
      "   *************\n",
      "  ***************\n",
      " *****************\n",
      "*******************\n"
     ]
    }
   ],
   "source": [
    "hw4.pyramid(10)"
   ]
  }
 ],
 "metadata": {
  "kernelspec": {
   "display_name": "Python 3",
   "language": "python",
   "name": "python3"
  },
  "language_info": {
   "codemirror_mode": {
    "name": "ipython",
    "version": 3
   },
   "file_extension": ".py",
   "mimetype": "text/x-python",
   "name": "python",
   "nbconvert_exporter": "python",
   "pygments_lexer": "ipython3",
   "version": "3.6.2"
  }
 },
 "nbformat": 4,
 "nbformat_minor": 2
}
